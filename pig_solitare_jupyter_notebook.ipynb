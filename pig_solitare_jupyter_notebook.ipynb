{
 "cells": [
  {
   "cell_type": "markdown",
   "metadata": {},
   "source": [
    "## The point of this project is to find the optimal strategy for a player playing the game of Pig Solitare.  \n",
    "\n",
    "### In the below section, we will create a number of different pig classes with differest strategies for deciding whether or not to roll again.  We hope through a process of trial and error we can find the optimal pig solitare strategy\n",
    "\n",
    "### We start by using pigs that roll a set number of times"
   ]
  },
  {
   "cell_type": "code",
   "execution_count": 2,
   "metadata": {
    "collapsed": true
   },
   "outputs": [],
   "source": [
    "import random\n",
    "import matplotlib.pyplot as plt\n",
    "%matplotlib inline"
   ]
  },
  {
   "cell_type": "code",
   "execution_count": 3,
   "metadata": {
    "collapsed": true
   },
   "outputs": [],
   "source": [
    "class Four_Rolls_Pig:\n",
    "    def __init__(self):\n",
    "        self.score = 0\n",
    "        self.roll_count =3\n",
    "    def roll_again(self):\n",
    "        if self.roll_count > 0:\n",
    "            self.roll_count -= 1\n",
    "            return True\n",
    "        else:\n",
    "            return False\n",
    "        \n",
    "class Five_Rolls_Pig:\n",
    "    def __init__(self):\n",
    "        self.score = 0\n",
    "        self.roll_count =4\n",
    "    def roll_again(self):\n",
    "        if self.roll_count > 0:\n",
    "            self.roll_count -= 1\n",
    "            return True\n",
    "        else:\n",
    "            return False\n",
    "        \n",
    "class Six_Rolls_Pig:\n",
    "    def __init__(self):\n",
    "        self.score = 0\n",
    "        self.roll_count =5\n",
    "    def roll_again(self):\n",
    "        if self.roll_count > 0:\n",
    "            self.roll_count -= 1\n",
    "            return True\n",
    "        else:\n",
    "            return False\n",
    "\n",
    "class Seven_Rolls_Pig:\n",
    "    def __init__(self):\n",
    "        self.score = 0\n",
    "        self.roll_count =6\n",
    "    def roll_again(self):\n",
    "        if self.roll_count > 0:\n",
    "            self.roll_count -= 1\n",
    "            return True\n",
    "        else:\n",
    "            return False\n",
    "        \n",
    "class Eight_Rolls_Pig:\n",
    "    def __init__(self):\n",
    "        self.score = 0\n",
    "        self.roll_count =7\n",
    "    def roll_again(self):\n",
    "        if self.roll_count > 0:\n",
    "            self.roll_count -= 1\n",
    "            return True\n",
    "        else:\n",
    "            return False"
   ]
  },
  {
   "cell_type": "markdown",
   "metadata": {},
   "source": [
    "### Next, we will create pig classes that have a different probability of choosing to roll again"
   ]
  },
  {
   "cell_type": "code",
   "execution_count": 4,
   "metadata": {
    "collapsed": false
   },
   "outputs": [],
   "source": [
    "class Fifty_Percent_Pig:\n",
    "    def __init__(self):\n",
    "        self.score = 0\n",
    "    def roll_again(self):\n",
    "        random_number = random.randint(1,2)\n",
    "        if random_number == 1:\n",
    "            return True\n",
    "        else:\n",
    "            return False\n",
    "        \n",
    "class Seventy_Percent_Pig:\n",
    "    def __init__(self):\n",
    "        self.score = 0\n",
    "    def roll_again(self):\n",
    "        random_number = random.randint(1,10)\n",
    "        if random_number <= 7:\n",
    "            return True\n",
    "        else:\n",
    "            return False\n",
    "\n",
    "class Eighty_Percent_Pig:\n",
    "     def __init__(self):\n",
    "         self.score = 0\n",
    "     def roll_again(self):\n",
    "         random_number = random.randint(1,10)\n",
    "         if random_number <= 8:\n",
    "             return True\n",
    "         else:\n",
    "             return False\n",
    "            \n",
    "class Ninety_Percent_Pig:\n",
    "     def __init__(self):\n",
    "         self.score = 0\n",
    "     def roll_again(self):\n",
    "         random_number = random.randint(1,10)\n",
    "         if random_number <= 9:\n",
    "             return True\n",
    "         else:\n",
    "             return False"
   ]
  },
  {
   "cell_type": "markdown",
   "metadata": {
    "collapsed": true
   },
   "source": [
    "### Finally, we have our pig which we have found to have the highest average points/turn over many trials\n",
    "\n",
    "#### This pig has the strategy of choosing to roll if its turn score is below 20, but decides to hold if it is greater than or equal to 20\n",
    "\n",
    "#### We found this using a little bit of math.  We know that the true goal of the game is to not roll a 1, which has a 1/5 chance of happening.  We also know that the average score of a non-losing roll is 4 because (6+5+4+3+2)/5 = 4.  Because you should get 5 winning rolls for every losing one, the best strategy is to hold at 5 x 4 =20\n",
    "\n",
    "#### It should be noted that although this is the best stable strategy for a turn, there are other iterations of the pig solitare game where 2 players play against one another until one player crosses a certain points threshold.  The optimal strategy in this game is much more complex than the \"hold at 20\" rule and is dependent on various factors. To read more about this topic you can go to this 2004 Gettysburg College paper http://cupola.gettysburg.edu/cgi/viewcontent.cgi?article=1003&context=csfac"
   ]
  },
  {
   "cell_type": "code",
   "execution_count": 21,
   "metadata": {
    "collapsed": false
   },
   "outputs": [],
   "source": [
    "class Optimal_Pig:\n",
    "     def __init__(self):\n",
    "         self.score = 0\n",
    "     def roll_again(self):\n",
    "         if self.score < 20:\n",
    "             return True\n",
    "         else:\n",
    "             return False"
   ]
  },
  {
   "cell_type": "markdown",
   "metadata": {},
   "source": [
    "### Now let's make a few more pigs with near optimal strategy, but not quite"
   ]
  },
  {
   "cell_type": "code",
   "execution_count": 22,
   "metadata": {
    "collapsed": true
   },
   "outputs": [],
   "source": [
    "class Optimal_Pig__Plus_One:\n",
    "     def __init__(self):\n",
    "         self.score = 0\n",
    "     def roll_again(self):\n",
    "         if self.score < 21:\n",
    "             return True\n",
    "         else:\n",
    "             return False\n",
    "        \n",
    "class Optimal_Pig_Minus_One:\n",
    "     def __init__(self):\n",
    "         self.score = 0\n",
    "     def roll_again(self):\n",
    "         if self.score < 19:\n",
    "             return True\n",
    "         else:\n",
    "             return False\n",
    "        \n",
    "class Optimal_Pig_Minus_Two:\n",
    "     def __init__(self):\n",
    "         self.score = 0\n",
    "     def roll_again(self):\n",
    "         if self.score < 18:\n",
    "             return True\n",
    "         else:\n",
    "             return False"
   ]
  },
  {
   "cell_type": "markdown",
   "metadata": {
    "collapsed": true
   },
   "source": [
    "### Now, we will construct the functions necessary to play the game Pig Solitare\n",
    "\n",
    "#### Remember the rules: A player rolls a 6-sided die, if they roll a 1, their turn is over, if they roll a 2-6, that score is added to their turn score.  The player then has the choice to either take the points they already have or roll again.  If they roll a 1, they lose all the points they have aquired this turn and their turn score = 0.  This is repeated until the player either rolls a 1 or decides to hold."
   ]
  },
  {
   "cell_type": "code",
   "execution_count": 23,
   "metadata": {
    "collapsed": true
   },
   "outputs": [],
   "source": [
    "def roll_dice():\n",
    "    dice_roll = random.randint(1,6)\n",
    "    return dice_roll\n",
    "\n",
    "def play_game(pig):\n",
    "    turn_over = False\n",
    "    dice_score = roll_dice()\n",
    "    if dice_score == 1:\n",
    "        turn_over = True\n",
    "    else:\n",
    "        pig.score += dice_score\n",
    "        decide_to_roll_again = pig.roll_again()\n",
    "        while not turn_over and decide_to_roll_again:\n",
    "            dice_score = roll_dice()\n",
    "            if dice_score == 1:\n",
    "                turn_over = True\n",
    "                pig.score = 0\n",
    "            else:\n",
    "                pig.score += dice_score\n",
    "                decide_to_roll_again = pig.roll_again()"
   ]
  },
  {
   "cell_type": "markdown",
   "metadata": {},
   "source": [
    "## Now, we create a function to simulate many trials and that can accomodate our diverse types of pig players"
   ]
  },
  {
   "cell_type": "code",
   "execution_count": 24,
   "metadata": {
    "collapsed": true
   },
   "outputs": [],
   "source": [
    "def simulate_trials(trials, pig):\n",
    "    trial_results = []\n",
    "    while trials > 0:\n",
    "        pig_player = pig\n",
    "        play_game(pig_player)\n",
    "        trial_results.append(pig_player.score)\n",
    "        pig_player.score = 0\n",
    "        trials -= 1\n",
    "    return sum(trial_results)/len(trial_results)"
   ]
  },
  {
   "cell_type": "markdown",
   "metadata": {},
   "source": [
    "### First we need to instantiate many pig objects to represent our different players"
   ]
  },
  {
   "cell_type": "code",
   "execution_count": 25,
   "metadata": {
    "collapsed": false
   },
   "outputs": [],
   "source": [
    "four_rolls_pig = Four_Rolls_Pig()\n",
    "five_rolls_pig = Five_Rolls_Pig()\n",
    "six_rolls_pig = Six_Rolls_Pig()\n",
    "seven_rolls_pig = Seven_Rolls_Pig()\n",
    "fifty_percent_pig = Fifty_Percent_Pig()\n",
    "seventy_percent_pig = Seventy_Percent_Pig()\n",
    "eighty_percent_pig = Eighty_Percent_Pig()\n",
    "ninety_percent_pig = Ninety_Percent_Pig()\n",
    "optimal_pig = Optimal_Pig()\n",
    "optimal_pig_plus_one = Optimal_Pig__Plus_One()\n",
    "optimal_pig_minus_one = Optimal_Pig_Minus_One()\n",
    "optimal_pig_minus_two = Optimal_Pig_Minus_Two()"
   ]
  },
  {
   "cell_type": "markdown",
   "metadata": {},
   "source": [
    "### Now we play the game for each pig and a large number of trials"
   ]
  },
  {
   "cell_type": "code",
   "execution_count": 26,
   "metadata": {
    "collapsed": false
   },
   "outputs": [],
   "source": [
    "ten_thousand = 10000\n",
    "\n",
    "four_rolls_y = simulate_trials(ten_thousand, four_rolls_pig)\n",
    "five_rolls_y = simulate_trials(ten_thousand, five_rolls_pig)\n",
    "six_rolls_y = simulate_trials(ten_thousand, six_rolls_pig)\n",
    "seven_rolls_y = simulate_trials(ten_thousand, seven_rolls_pig)\n",
    "fifty_percent_y = simulate_trials(ten_thousand, fifty_percent_pig)\n",
    "seventy_percent_y = simulate_trials(ten_thousand, seventy_percent_pig)\n",
    "eighty_percent_y = simulate_trials(ten_thousand, eighty_percent_pig)\n",
    "ninety_percent_y = simulate_trials(ten_thousand, ninety_percent_pig)\n",
    "optimal_y = simulate_trials(ten_thousand, optimal_pig)\n",
    "optimal_minus_one_y = simulate_trials(ten_thousand, optimal_pig_minus_one)\n",
    "optimal_minus_two_y = simulate_trials(ten_thousand, optimal_pig_minus_two)\n",
    "optimal_plus_one_y = simulate_trials(ten_thousand, optimal_pig_plus_one)"
   ]
  },
  {
   "cell_type": "markdown",
   "metadata": {},
   "source": [
    "### Now we construct the bar plot"
   ]
  },
  {
   "cell_type": "code",
   "execution_count": 27,
   "metadata": {
    "collapsed": false
   },
   "outputs": [
    {
     "data": {
      "image/png": "[encoded data removed]",
      "text/plain": [
       "<matplotlib.figure.Figure at 0x1052d1320>"
      ]
     },
     "metadata": {},
     "output_type": "display_data"
    }
   ],
   "source": [
    "x1 = 2\n",
    "y1 = four_rolls_y\n",
    "\n",
    "x2 = 4\n",
    "y2 = five_rolls_y\n",
    "\n",
    "x3 = 6\n",
    "y3 = six_rolls_y\n",
    "\n",
    "x4 = 8\n",
    "y4 = seven_rolls_y\n",
    "\n",
    "x5 = 10\n",
    "y5 = fifty_percent_y\n",
    "\n",
    "x6 = 12\n",
    "y6 = seventy_percent_y\n",
    "\n",
    "x7 = 14\n",
    "y7 = eighty_percent_y\n",
    "\n",
    "x8 = 16\n",
    "y8 = ninety_percent_y\n",
    "\n",
    "x9= 18\n",
    "y9 = optimal_minus_two_y\n",
    "\n",
    "x10 = 20\n",
    "y10 = optimal_minus_one_y\n",
    "\n",
    "x11 = 22\n",
    "y11 = optimal_y\n",
    "\n",
    "x12 = 24\n",
    "y12 = optimal_plus_one_y\n",
    "\n",
    "plt.bar(x1,y1, color = 'pink',label = \"Four Rolls Pig\")\n",
    "plt.bar(x2,y2, color = 'c', label = 'Five Rolls Pig')\n",
    "plt.bar(x3, y3, color = 'maroon', label = 'Six Rolls Pig')\n",
    "plt.bar(x4, y4, color = 'slateblue', label = 'Seven Rolls Pig')\n",
    "plt.bar(x5, y5, color = 'g', label = '50% Pig')\n",
    "plt.bar(x6, y6, color = 'r', label = '70% Pig')\n",
    "plt.bar(x7,y7, color = 'orange', label = '80% Pig')\n",
    "plt.bar(x8, y8, color = 'purple', label = '90% Pig')\n",
    "plt.bar(x9, y9, color = 'k')\n",
    "plt.bar(x10, y10, color = 'tomato')\n",
    "plt.bar(x11, y11, label = 'Optimal Pig')\n",
    "plt.bar(x12, y12, color = 'hotpink')\n",
    "plt.xlabel('Strategies')\n",
    "plt.ylabel('Average Turn Score')\n",
    "plt.title('Average Turn Score for\\nDifferent Strategies')\n",
    "plt.show()"
   ]
  },
  {
   "cell_type": "markdown",
   "metadata": {},
   "source": [
    "### Above is a plot of the average turn score for the various strategies in this order: four rolls, five rolls, six rolls, seven rolls, 50% probability of rolling again, 70% probability, 80% probability, 90% probability, hold-at 18, hold-at-19, hold-at-20(optimal), hold-at-21\n",
    "\n",
    "### Below is a list of the average turn score of each strategy"
   ]
  },
  {
   "cell_type": "code",
   "execution_count": 34,
   "metadata": {
    "collapsed": false
   },
   "outputs": [
    {
     "name": "stdout",
     "output_type": "stream",
     "text": [
      "Hold at 20:  8.223\n",
      "Hold at 18:  8.1893\n",
      "Hold at 19:  8.0477\n",
      "Hold at 21:  7.9297\n",
      "Four Rolls:  3.3414\n",
      "Five Rolls:  3.3528\n",
      "Six Rolls:   3.3291\n",
      "Seven Rolls: 3.3222\n",
      "50%:         4.9586\n",
      "70%:         3.3222\n",
      "80%:         5.9232\n",
      "90%:         5.307\n"
     ]
    }
   ],
   "source": [
    "print('Hold at 20: ',optimal_y)\n",
    "print('Hold at 18: ', optimal_minus_two_y)\n",
    "print('Hold at 19: ', optimal_minus_one_y)\n",
    "print('Hold at 21: ', optimal_plus_one_y)\n",
    "print('Four Rolls: ', four_rolls_y)\n",
    "print('Five Rolls: ', five_rolls_y)\n",
    "print('Six Rolls:  ',six_rolls_y)\n",
    "print('Seven Rolls:', seven_rolls_y)\n",
    "print('50%:        ', fifty_percent_y)\n",
    "print('70%:        ', seven_rolls_y)\n",
    "print('80%:        ', eighty_percent_y)\n",
    "print('90%:        ', ninety_percent_y)"
   ]
  },
  {
   "cell_type": "code",
   "execution_count": null,
   "metadata": {
    "collapsed": true
   },
   "outputs": [],
   "source": []
  },
  {
   "cell_type": "code",
   "execution_count": null,
   "metadata": {
    "collapsed": true
   },
   "outputs": [],
   "source": []
  }
 ],
 "metadata": {
  "kernelspec": {
   "display_name": "Python 3",
   "language": "python",
   "name": "python3"
  },
  "language_info": {
   "codemirror_mode": {
    "name": "ipython",
    "version": 3
   },
   "file_extension": ".py",
   "mimetype": "text/x-python",
   "name": "python",
   "nbconvert_exporter": "python",
   "pygments_lexer": "ipython3",
   "version": "3.5.1"
  }
 },
 "nbformat": 4,
 "nbformat_minor": 0
}
